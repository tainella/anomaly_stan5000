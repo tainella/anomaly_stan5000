{
 "cells": [
  {
   "cell_type": "code",
   "execution_count": 1,
   "id": "bdd381d1-d6dc-460a-984f-362cb445373c",
   "metadata": {
    "execution": {
     "iopub.execute_input": "2024-06-12T20:32:12.252950Z",
     "iopub.status.busy": "2024-06-12T20:32:12.251972Z",
     "iopub.status.idle": "2024-06-12T20:32:14.144144Z",
     "shell.execute_reply": "2024-06-12T20:32:14.143501Z",
     "shell.execute_reply.started": "2024-06-12T20:32:12.252913Z"
    },
    "tags": []
   },
   "outputs": [],
   "source": [
    "import sys\n",
    "sys.path.append('../src')\n",
    "\n",
    "import importlib\n",
    "import train\n",
    "importlib.reload(train)\n",
    "from datetime import datetime\n",
    "from get_mks_5000_ML_dataset import *"
   ]
  },
  {
   "cell_type": "code",
   "execution_count": 2,
   "id": "d2b11fe8-8781-4b03-b42a-e09426471a9b",
   "metadata": {
    "execution": {
     "iopub.execute_input": "2024-06-12T20:32:14.146003Z",
     "iopub.status.busy": "2024-06-12T20:32:14.145326Z",
     "iopub.status.idle": "2024-06-12T21:34:46.901206Z",
     "shell.execute_reply": "2024-06-12T21:34:46.900460Z",
     "shell.execute_reply.started": "2024-06-12T20:32:14.145978Z"
    },
    "tags": []
   },
   "outputs": [
    {
     "name": "stdout",
     "output_type": "stream",
     "text": [
      "CPU times: user 2 µs, sys: 1e+03 ns, total: 3 µs\n",
      "Wall time: 5.01 µs\n",
      "2022 3q\n",
      "Период обучения: с 2022-01-01 по 2022-06-30\n",
      "Период тестирования: с 2022-07-01 по 2022-09-30\n"
     ]
    },
    {
     "name": "stderr",
     "output_type": "stream",
     "text": [
      "100%|██████████| 3/3 [00:42<00:00, 14.25s/it]\n",
      "100%|██████████| 3/3 [00:29<00:00,  9.97s/it]\n"
     ]
    },
    {
     "name": "stdout",
     "output_type": "stream",
     "text": [
      "ПРИЗНАКИ ДЛЯ ОБУЧЕНИЯ: ['Давление в системе', 'Температура масла в баке', 'Давление в системе_var', 'Температура масла в баке_trend', 'Уровень масла в баке_trend_hour', 'Уровень масла в баке_trend_12hour', 'Уровень масла в баке_diff_M']\n"
     ]
    },
    {
     "name": "stderr",
     "output_type": "stream",
     "text": [
      "100%|██████████| 6/6 [01:20<00:00, 13.47s/it]\n",
      "100%|██████████| 6/6 [01:09<00:00, 11.64s/it]\n"
     ]
    },
    {
     "name": "stdout",
     "output_type": "stream",
     "text": [
      "Epoch [1/25], Loss: 72.70565032958984\n",
      "Epoch [2/25], Loss: 44.95365905761719\n",
      "Epoch [3/25], Loss: 39.053855895996094\n",
      "Epoch [4/25], Loss: 36.7436637878418\n",
      "Epoch [5/25], Loss: 33.798580169677734\n",
      "Epoch [6/25], Loss: 15.944501876831055\n",
      "Epoch [7/25], Loss: 9.287332534790039\n",
      "Epoch [8/25], Loss: 6.8755645751953125\n",
      "Epoch [9/25], Loss: 5.240293502807617\n",
      "Epoch [10/25], Loss: 6.159588813781738\n",
      "Epoch [11/25], Loss: 4.605061054229736\n",
      "Epoch [12/25], Loss: 4.284931182861328\n",
      "Epoch [13/25], Loss: 4.27848482131958\n",
      "Epoch [14/25], Loss: 4.129425048828125\n",
      "Epoch [15/25], Loss: 4.0320281982421875\n",
      "Epoch [16/25], Loss: 3.7138943672180176\n",
      "Epoch [17/25], Loss: 3.5750298500061035\n",
      "Epoch [18/25], Loss: 3.6335508823394775\n",
      "Epoch [19/25], Loss: 3.6655282974243164\n",
      "Epoch [20/25], Loss: 3.5403573513031006\n",
      "Epoch [21/25], Loss: 3.3736190795898438\n",
      "Epoch [22/25], Loss: 3.0902137756347656\n",
      "Epoch [23/25], Loss: 2.948593854904175\n",
      "Epoch [24/25], Loss: 2.6502902507781982\n",
      "Epoch [25/25], Loss: 2.605276346206665\n",
      "Model ../models/simple-trend_level_stand_2022_3q.pth has been saved\n",
      "Метрики тестирования: {'MAE': 0.20461763, 'MSE': 0.11281265, 'MAPE': 2.1408794, 'r2_score': 0.8871810081129833}\n",
      "2022 4q\n",
      "Период обучения: с 2022-04-01 по 2022-09-30\n",
      "Период тестирования: с 2022-10-01 по 2022-12-31\n"
     ]
    },
    {
     "name": "stderr",
     "output_type": "stream",
     "text": [
      "100%|██████████| 4/4 [00:18<00:00,  4.70s/it]\n",
      "100%|██████████| 4/4 [00:12<00:00,  3.15s/it]\n"
     ]
    },
    {
     "name": "stdout",
     "output_type": "stream",
     "text": [
      "ПРИЗНАКИ ДЛЯ ОБУЧЕНИЯ: ['Давление в системе', 'Температура масла в баке', 'Давление в системе_var', 'Температура масла в баке_trend', 'Уровень масла в баке_trend_hour', 'Уровень масла в баке_trend_12hour', 'Уровень масла в баке_diff_M']\n"
     ]
    },
    {
     "name": "stderr",
     "output_type": "stream",
     "text": [
      "100%|██████████| 6/6 [01:25<00:00, 14.32s/it]\n",
      "100%|██████████| 6/6 [01:10<00:00, 11.77s/it]\n"
     ]
    },
    {
     "name": "stdout",
     "output_type": "stream",
     "text": [
      "Epoch [1/25], Loss: 88.80206298828125\n",
      "Epoch [2/25], Loss: 56.49370574951172\n",
      "Epoch [3/25], Loss: 42.713706970214844\n",
      "Epoch [4/25], Loss: 25.829153060913086\n",
      "Epoch [5/25], Loss: 16.203208923339844\n",
      "Epoch [6/25], Loss: 10.462348937988281\n",
      "Epoch [7/25], Loss: 6.2834930419921875\n",
      "Epoch [8/25], Loss: 4.944812297821045\n",
      "Epoch [9/25], Loss: 3.8545196056365967\n",
      "Epoch [10/25], Loss: 3.563608407974243\n",
      "Epoch [11/25], Loss: 3.29443621635437\n",
      "Epoch [12/25], Loss: 3.075706958770752\n",
      "Epoch [13/25], Loss: 2.6084794998168945\n",
      "Epoch [14/25], Loss: 2.5506293773651123\n",
      "Epoch [15/25], Loss: 2.2767162322998047\n",
      "Epoch [16/25], Loss: 2.237271785736084\n",
      "Epoch [17/25], Loss: 2.086794137954712\n",
      "Epoch [18/25], Loss: 1.7191009521484375\n",
      "Epoch [19/25], Loss: 1.7031959295272827\n",
      "Epoch [20/25], Loss: 1.6455076932907104\n",
      "Epoch [21/25], Loss: 1.5709712505340576\n",
      "Epoch [22/25], Loss: 1.4716449975967407\n",
      "Epoch [23/25], Loss: 1.3483794927597046\n",
      "Epoch [24/25], Loss: 1.2797976732254028\n",
      "Epoch [25/25], Loss: 1.416170597076416\n",
      "Model ../models/simple-trend_level_stand_2022_4q.pth has been saved\n",
      "Метрики тестирования: {'MAE': 0.08802869, 'MSE': 0.017859522, 'MAPE': 0.57731867, 'r2_score': 0.9821402310298186}\n"
     ]
    },
    {
     "name": "stderr",
     "output_type": "stream",
     "text": [
      "/home/jupyter/work/resources/diplom/notebooks/../src/analyse.py:157: SettingWithCopyWarning: \n",
      "A value is trying to be set on a copy of a slice from a DataFrame.\n",
      "Try using .loc[row_indexer,col_indexer] = value instead\n",
      "\n",
      "See the caveats in the documentation: https://pandas.pydata.org/pandas-docs/stable/user_guide/indexing.html#returning-a-view-versus-a-copy\n",
      "  anomaly_vals['p_value'] = anomaly_vals['p_value'].rolling('2H').mean().fillna(value=np.nan)\n"
     ]
    },
    {
     "name": "stdout",
     "output_type": "stream",
     "text": [
      "2023 1q\n",
      "Период обучения: с 2022-07-01 по 2022-12-31\n",
      "Период тестирования: с 2023-01-01 по 2023-03-31\n"
     ]
    },
    {
     "name": "stderr",
     "output_type": "stream",
     "text": [
      "100%|██████████| 3/3 [00:32<00:00, 10.87s/it]\n",
      "100%|██████████| 3/3 [00:21<00:00,  7.29s/it]\n"
     ]
    },
    {
     "name": "stdout",
     "output_type": "stream",
     "text": [
      "ПРИЗНАКИ ДЛЯ ОБУЧЕНИЯ: ['Давление в системе', 'Температура масла в баке', 'Давление в системе_var', 'Температура масла в баке_trend', 'Уровень масла в баке_trend_hour', 'Уровень масла в баке_trend_12hour', 'Уровень масла в баке_diff_M']\n"
     ]
    },
    {
     "name": "stderr",
     "output_type": "stream",
     "text": [
      "100%|██████████| 7/7 [01:01<00:00,  8.74s/it]\n",
      "100%|██████████| 7/7 [00:51<00:00,  7.40s/it]\n"
     ]
    },
    {
     "name": "stdout",
     "output_type": "stream",
     "text": [
      "Epoch [1/25], Loss: 134.3529052734375\n",
      "Epoch [2/25], Loss: 65.27578735351562\n",
      "Epoch [3/25], Loss: 43.67623519897461\n",
      "Epoch [4/25], Loss: 32.801048278808594\n",
      "Epoch [5/25], Loss: 24.490976333618164\n",
      "Epoch [6/25], Loss: 18.939228057861328\n",
      "Epoch [7/25], Loss: 15.275176048278809\n",
      "Epoch [8/25], Loss: 13.381831169128418\n",
      "Epoch [9/25], Loss: 11.423625946044922\n",
      "Epoch [10/25], Loss: 9.954081535339355\n",
      "Epoch [11/25], Loss: 8.6539306640625\n",
      "Epoch [12/25], Loss: 7.157167434692383\n",
      "Epoch [13/25], Loss: 8.10810661315918\n",
      "Epoch [14/25], Loss: 6.057809829711914\n",
      "Epoch [15/25], Loss: 5.849470138549805\n",
      "Epoch [16/25], Loss: 4.897776126861572\n",
      "Epoch [17/25], Loss: 4.476770401000977\n",
      "Epoch [18/25], Loss: 3.603010892868042\n",
      "Epoch [19/25], Loss: 3.115053415298462\n",
      "Epoch [20/25], Loss: 2.630023717880249\n",
      "Epoch [21/25], Loss: 2.881626605987549\n",
      "Epoch [22/25], Loss: 2.5567846298217773\n",
      "Epoch [23/25], Loss: 2.8328511714935303\n",
      "Epoch [24/25], Loss: 2.3235509395599365\n",
      "Epoch [25/25], Loss: 2.4308712482452393\n",
      "Model ../models/simple-trend_level_stand_2023_1q.pth has been saved\n",
      "Метрики тестирования: {'MAE': 0.07181965, 'MSE': 0.0137623185, 'MAPE': 0.5364231, 'r2_score': 0.9862374098086926}\n"
     ]
    },
    {
     "name": "stderr",
     "output_type": "stream",
     "text": [
      "/home/jupyter/work/resources/diplom/notebooks/../src/analyse.py:157: SettingWithCopyWarning: \n",
      "A value is trying to be set on a copy of a slice from a DataFrame.\n",
      "Try using .loc[row_indexer,col_indexer] = value instead\n",
      "\n",
      "See the caveats in the documentation: https://pandas.pydata.org/pandas-docs/stable/user_guide/indexing.html#returning-a-view-versus-a-copy\n",
      "  anomaly_vals['p_value'] = anomaly_vals['p_value'].rolling('2H').mean().fillna(value=np.nan)\n"
     ]
    },
    {
     "name": "stdout",
     "output_type": "stream",
     "text": [
      "2023 2q\n",
      "Период обучения: с 2022-10-01 по 2023-03-31\n",
      "Период тестирования: с 2023-04-01 по 2023-06-30\n"
     ]
    },
    {
     "name": "stderr",
     "output_type": "stream",
     "text": [
      "100%|██████████| 3/3 [00:42<00:00, 14.01s/it]\n",
      "100%|██████████| 3/3 [00:29<00:00,  9.74s/it]\n"
     ]
    },
    {
     "name": "stdout",
     "output_type": "stream",
     "text": [
      "ПРИЗНАКИ ДЛЯ ОБУЧЕНИЯ: ['Давление в системе', 'Температура масла в баке', 'Давление в системе_var', 'Температура масла в баке_trend', 'Уровень масла в баке_trend_hour', 'Уровень масла в баке_trend_12hour', 'Уровень масла в баке_diff_M']\n"
     ]
    },
    {
     "name": "stderr",
     "output_type": "stream",
     "text": [
      "100%|██████████| 7/7 [00:51<00:00,  7.34s/it]\n",
      "100%|██████████| 7/7 [00:44<00:00,  6.34s/it]\n"
     ]
    },
    {
     "name": "stdout",
     "output_type": "stream",
     "text": [
      "Epoch [1/25], Loss: 111.06307983398438\n",
      "Epoch [2/25], Loss: 55.010833740234375\n",
      "Epoch [3/25], Loss: 25.590349197387695\n",
      "Epoch [4/25], Loss: 17.167255401611328\n",
      "Epoch [5/25], Loss: 11.89064884185791\n",
      "Epoch [6/25], Loss: 9.13749885559082\n",
      "Epoch [7/25], Loss: 7.571941375732422\n",
      "Epoch [8/25], Loss: 6.942437171936035\n",
      "Epoch [9/25], Loss: 6.8845319747924805\n",
      "Epoch [10/25], Loss: 6.265810966491699\n",
      "Epoch [11/25], Loss: 5.786553859710693\n",
      "Epoch [12/25], Loss: 5.35959005355835\n",
      "Epoch [13/25], Loss: 5.106107234954834\n",
      "Epoch [14/25], Loss: 4.770208835601807\n",
      "Epoch [15/25], Loss: 4.3128767013549805\n",
      "Epoch [16/25], Loss: 4.015285491943359\n",
      "Epoch [17/25], Loss: 3.6685779094696045\n",
      "Epoch [18/25], Loss: 3.572446823120117\n",
      "Epoch [19/25], Loss: 3.4825427532196045\n",
      "Epoch [20/25], Loss: 3.244689702987671\n",
      "Epoch [21/25], Loss: 3.2656824588775635\n",
      "Epoch [22/25], Loss: 3.0620853900909424\n",
      "Epoch [23/25], Loss: 2.9519712924957275\n",
      "Epoch [24/25], Loss: 2.8072092533111572\n",
      "Epoch [25/25], Loss: 2.711707353591919\n",
      "Model ../models/simple-trend_level_stand_2023_2q.pth has been saved\n",
      "Метрики тестирования: {'MAE': 0.14228438, 'MSE': 0.044001084, 'MAPE': 2.6868417, 'r2_score': 0.9559980312669806}\n",
      "2023 3q\n",
      "Период обучения: с 2023-01-01 по 2023-06-30\n",
      "Период тестирования: с 2023-07-01 по 2023-09-30\n"
     ]
    },
    {
     "name": "stderr",
     "output_type": "stream",
     "text": [
      "100%|██████████| 3/3 [00:40<00:00, 13.49s/it]\n",
      "100%|██████████| 3/3 [00:29<00:00,  9.67s/it]\n"
     ]
    },
    {
     "name": "stdout",
     "output_type": "stream",
     "text": [
      "ПРИЗНАКИ ДЛЯ ОБУЧЕНИЯ: ['Давление в системе', 'Температура масла в баке', 'Давление в системе_var', 'Температура масла в баке_trend', 'Уровень масла в баке_trend_hour', 'Уровень масла в баке_trend_12hour', 'Уровень масла в баке_diff_M']\n"
     ]
    },
    {
     "name": "stderr",
     "output_type": "stream",
     "text": [
      "100%|██████████| 6/6 [01:15<00:00, 12.61s/it]\n",
      "100%|██████████| 6/6 [01:07<00:00, 11.30s/it]\n"
     ]
    },
    {
     "name": "stdout",
     "output_type": "stream",
     "text": [
      "Epoch [1/25], Loss: 119.38423156738281\n",
      "Epoch [2/25], Loss: 64.36779022216797\n",
      "Epoch [3/25], Loss: 34.514678955078125\n",
      "Epoch [4/25], Loss: 14.412576675415039\n",
      "Epoch [5/25], Loss: 8.75588321685791\n",
      "Epoch [6/25], Loss: 6.977014064788818\n",
      "Epoch [7/25], Loss: 5.842157363891602\n",
      "Epoch [8/25], Loss: 4.912318229675293\n",
      "Epoch [9/25], Loss: 4.122498512268066\n",
      "Epoch [10/25], Loss: 3.6003589630126953\n",
      "Epoch [11/25], Loss: 3.070922613143921\n",
      "Epoch [12/25], Loss: 3.864912509918213\n",
      "Epoch [13/25], Loss: 2.947425603866577\n",
      "Epoch [14/25], Loss: 2.9756789207458496\n",
      "Epoch [15/25], Loss: 2.5175225734710693\n",
      "Epoch [16/25], Loss: 2.8390965461730957\n",
      "Epoch [17/25], Loss: 2.57955002784729\n",
      "Epoch [18/25], Loss: 2.4737632274627686\n",
      "Epoch [19/25], Loss: 2.7903151512145996\n",
      "Epoch [20/25], Loss: 2.243607997894287\n",
      "Epoch [21/25], Loss: 2.360731601715088\n",
      "Epoch [22/25], Loss: 2.193582057952881\n",
      "Epoch [23/25], Loss: 1.901305079460144\n",
      "Epoch [24/25], Loss: 1.9086544513702393\n",
      "Epoch [25/25], Loss: 1.6893569231033325\n",
      "Model ../models/simple-trend_level_stand_2023_3q.pth has been saved\n",
      "Метрики тестирования: {'MAE': 0.12290337, 'MSE': 0.047593832, 'MAPE': 0.8771717, 'r2_score': 0.9524030178567917}\n"
     ]
    },
    {
     "name": "stderr",
     "output_type": "stream",
     "text": [
      "/home/jupyter/work/resources/diplom/notebooks/../src/analyse.py:157: SettingWithCopyWarning: \n",
      "A value is trying to be set on a copy of a slice from a DataFrame.\n",
      "Try using .loc[row_indexer,col_indexer] = value instead\n",
      "\n",
      "See the caveats in the documentation: https://pandas.pydata.org/pandas-docs/stable/user_guide/indexing.html#returning-a-view-versus-a-copy\n",
      "  anomaly_vals['p_value'] = anomaly_vals['p_value'].rolling('2H').mean().fillna(value=np.nan)\n"
     ]
    },
    {
     "name": "stdout",
     "output_type": "stream",
     "text": [
      "2023 4q\n",
      "Период обучения: с 2023-04-01 по 2023-09-30\n",
      "Период тестирования: с 2023-10-01 по 2023-12-31\n"
     ]
    },
    {
     "name": "stderr",
     "output_type": "stream",
     "text": [
      "100%|██████████| 3/3 [00:40<00:00, 13.62s/it]\n",
      "100%|██████████| 3/3 [00:24<00:00,  8.12s/it]\n"
     ]
    },
    {
     "name": "stdout",
     "output_type": "stream",
     "text": [
      "ПРИЗНАКИ ДЛЯ ОБУЧЕНИЯ: ['Давление в системе', 'Температура масла в баке', 'Давление в системе_var', 'Температура масла в баке_trend', 'Уровень масла в баке_trend_hour', 'Уровень масла в баке_trend_12hour', 'Уровень масла в баке_diff_M']\n"
     ]
    },
    {
     "name": "stderr",
     "output_type": "stream",
     "text": [
      "100%|██████████| 6/6 [01:20<00:00, 13.35s/it]\n",
      "100%|██████████| 6/6 [01:08<00:00, 11.43s/it]\n"
     ]
    },
    {
     "name": "stdout",
     "output_type": "stream",
     "text": [
      "Epoch [1/25], Loss: 76.22066497802734\n",
      "Epoch [2/25], Loss: 43.89272689819336\n",
      "Epoch [3/25], Loss: 26.295700073242188\n",
      "Epoch [4/25], Loss: 17.232337951660156\n",
      "Epoch [5/25], Loss: 12.2099027633667\n",
      "Epoch [6/25], Loss: 10.088973045349121\n",
      "Epoch [7/25], Loss: 8.393777847290039\n",
      "Epoch [8/25], Loss: 6.766354560852051\n",
      "Epoch [9/25], Loss: 5.48488712310791\n",
      "Epoch [10/25], Loss: 4.928346633911133\n",
      "Epoch [11/25], Loss: 4.4451003074646\n",
      "Epoch [12/25], Loss: 4.198911666870117\n",
      "Epoch [13/25], Loss: 3.16359281539917\n",
      "Epoch [14/25], Loss: 2.7723519802093506\n",
      "Epoch [15/25], Loss: 2.658689022064209\n",
      "Epoch [16/25], Loss: 2.2944233417510986\n",
      "Epoch [17/25], Loss: 2.886225938796997\n",
      "Epoch [18/25], Loss: 2.1797263622283936\n",
      "Epoch [19/25], Loss: 2.1448771953582764\n",
      "Epoch [20/25], Loss: 1.9956051111221313\n",
      "Epoch [21/25], Loss: 3.2973432540893555\n",
      "Epoch [22/25], Loss: 2.284339189529419\n",
      "Epoch [23/25], Loss: 1.9871785640716553\n",
      "Epoch [24/25], Loss: 2.4284861087799072\n",
      "Epoch [25/25], Loss: 1.7309092283248901\n",
      "Model ../models/simple-trend_level_stand_2023_4q.pth has been saved\n",
      "Метрики тестирования: {'MAE': 0.086660944, 'MSE': 0.05348989, 'MAPE': 0.83946717, 'r2_score': 0.9465084299994964}\n"
     ]
    }
   ],
   "source": [
    "%time\n",
    "alert_total, fact_predict_total, anomaly_vals_total = train.execute(test_y_start=2022, \n",
    "                                                              test_q_start='3q', \n",
    "                                                              test_y_end=2023, \n",
    "                                                              test_q_end='4q', \n",
    "                                                              model_tag='trend_level',\n",
    "                                                              create_feat_flg = True,\n",
    "                                                              epoches = 25,\n",
    "                                                              train_flg = True,\n",
    "                                                              thresh = 0.05)"
   ]
  },
  {
   "cell_type": "markdown",
   "id": "556107ba-5271-4fbe-be90-9ee3588086db",
   "metadata": {},
   "source": [
    "### Прокси бизнес-метрики"
   ]
  },
  {
   "cell_type": "code",
   "execution_count": 25,
   "id": "19e9964c-189a-4a60-a04a-500c4cd1a1a5",
   "metadata": {
    "execution": {
     "iopub.execute_input": "2024-06-13T15:59:36.661797Z",
     "iopub.status.busy": "2024-06-13T15:59:36.660754Z",
     "iopub.status.idle": "2024-06-13T15:59:36.675047Z",
     "shell.execute_reply": "2024-06-13T15:59:36.674362Z",
     "shell.execute_reply.started": "2024-06-13T15:59:36.661754Z"
    }
   },
   "outputs": [],
   "source": [
    "import numpy as np"
   ]
  },
  {
   "cell_type": "code",
   "execution_count": 2,
   "id": "f7618383-122c-40bd-9444-51d72a57a754",
   "metadata": {
    "execution": {
     "iopub.execute_input": "2024-06-13T15:41:44.654102Z",
     "iopub.status.busy": "2024-06-13T15:41:44.653084Z",
     "iopub.status.idle": "2024-06-13T15:41:45.311559Z",
     "shell.execute_reply": "2024-06-13T15:41:45.310698Z",
     "shell.execute_reply.started": "2024-06-13T15:41:44.654060Z"
    },
    "tags": []
   },
   "outputs": [],
   "source": [
    "import pandas as pd\n",
    "\n",
    "alerts_df = pd.read_excel('/home/jupyter/datasphere/project/diplom/reports/thr=0.05_trend_level_2022_3q_2023_4q_alerts.xlsx')"
   ]
  },
  {
   "cell_type": "code",
   "execution_count": 4,
   "id": "9bb47c71-91fc-419f-8df5-8c86db810ca1",
   "metadata": {
    "execution": {
     "iopub.execute_input": "2024-06-13T15:42:52.675431Z",
     "iopub.status.busy": "2024-06-13T15:42:52.674420Z",
     "iopub.status.idle": "2024-06-13T15:42:52.687922Z",
     "shell.execute_reply": "2024-06-13T15:42:52.687094Z",
     "shell.execute_reply.started": "2024-06-13T15:42:52.675394Z"
    }
   },
   "outputs": [],
   "source": [
    "alerts_df.drop(columns = ['Unnamed: 0'], inplace = True)"
   ]
  },
  {
   "cell_type": "code",
   "execution_count": 5,
   "id": "9089343c-be06-413d-b2f3-949522a708f4",
   "metadata": {
    "execution": {
     "iopub.execute_input": "2024-06-13T15:42:53.300936Z",
     "iopub.status.busy": "2024-06-13T15:42:53.299687Z",
     "iopub.status.idle": "2024-06-13T15:42:53.337274Z",
     "shell.execute_reply": "2024-06-13T15:42:53.336511Z",
     "shell.execute_reply.started": "2024-06-13T15:42:53.300891Z"
    },
    "tags": []
   },
   "outputs": [
    {
     "data": {
      "text/html": [
       "<div>\n",
       "<style scoped>\n",
       "    .dataframe tbody tr th:only-of-type {\n",
       "        vertical-align: middle;\n",
       "    }\n",
       "\n",
       "    .dataframe tbody tr th {\n",
       "        vertical-align: top;\n",
       "    }\n",
       "\n",
       "    .dataframe thead th {\n",
       "        text-align: right;\n",
       "    }\n",
       "</style>\n",
       "<table border=\"1\" class=\"dataframe\">\n",
       "  <thead>\n",
       "    <tr style=\"text-align: right;\">\n",
       "      <th></th>\n",
       "      <th>Дата и время начала срабатывания предупреждения модели</th>\n",
       "      <th>Дата и время окончания срабатывания предупреждения модели</th>\n",
       "      <th>НШС узла в течение 10 дней</th>\n",
       "      <th>Время НШС</th>\n",
       "      <th>Признак: спрогнозировано ли НШС</th>\n",
       "      <th>Показатели, сработавшие в модели как определяющие предупреждение (список)</th>\n",
       "      <th>Срок от предупреждения до начала НШС</th>\n",
       "    </tr>\n",
       "  </thead>\n",
       "  <tbody>\n",
       "    <tr>\n",
       "      <th>0</th>\n",
       "      <td>2022-07-09 04:26</td>\n",
       "      <td>2022-07-09 06:26</td>\n",
       "      <td>NaN</td>\n",
       "      <td>NaN</td>\n",
       "      <td>False</td>\n",
       "      <td>Температура масла в баке_trend\\nУровень масла ...</td>\n",
       "      <td>NaN</td>\n",
       "    </tr>\n",
       "  </tbody>\n",
       "</table>\n",
       "</div>"
      ],
      "text/plain": [
       "  Дата и время начала срабатывания предупреждения модели  ... Срок от предупреждения до начала НШС\n",
       "0                                   2022-07-09 04:26      ...                                  NaN\n",
       "\n",
       "[1 rows x 7 columns]"
      ]
     },
     "execution_count": 5,
     "metadata": {},
     "output_type": "execute_result"
    }
   ],
   "source": [
    "alerts_df.head(1)"
   ]
  },
  {
   "cell_type": "code",
   "execution_count": 39,
   "id": "ad09d9f8-1f63-4f89-bab4-580550b78043",
   "metadata": {
    "execution": {
     "iopub.execute_input": "2024-06-13T16:03:56.412918Z",
     "iopub.status.busy": "2024-06-13T16:03:56.411938Z",
     "iopub.status.idle": "2024-06-13T16:03:56.447216Z",
     "shell.execute_reply": "2024-06-13T16:03:56.446573Z",
     "shell.execute_reply.started": "2024-06-13T16:03:56.412875Z"
    },
    "tags": []
   },
   "outputs": [
    {
     "name": "stdout",
     "output_type": "stream",
     "text": [
      "Выполняется ли ошибка 1 рода?\n",
      "В течение 10 дней перед 33% аварий программный комплекс выдаёт предупреждение\n",
      "\n",
      "Получилось: 67%\n",
      "Выполняется\n"
     ]
    }
   ],
   "source": [
    "print('Выполняется ли ошибка 1 рода?')\n",
    "print('В течение 10 дней перед 33% аварий программный комплекс выдаёт предупреждение')\n",
    "\n",
    "nhs_list = []\n",
    "for i, row in alerts_df.iterrows():\n",
    "    if row['Время НШС'] is not np.nan:\n",
    "        nhs_list += [x[2:] for x in row['Время НШС'].split('\\n')]\n",
    "\n",
    "print('\\nПолучилось: ', end='')     \n",
    "print(round(len(set(nhs_list)) / 52 * 100), '%', sep='')\n",
    "print('Выполняется')"
   ]
  },
  {
   "cell_type": "code",
   "execution_count": 14,
   "id": "3b99482e-789a-4e84-b87b-726500a8b576",
   "metadata": {
    "execution": {
     "iopub.execute_input": "2024-06-13T15:55:08.786053Z",
     "iopub.status.busy": "2024-06-13T15:55:08.784898Z",
     "iopub.status.idle": "2024-06-13T15:55:08.810252Z",
     "shell.execute_reply": "2024-06-13T15:55:08.809433Z",
     "shell.execute_reply.started": "2024-06-13T15:55:08.786010Z"
    },
    "tags": []
   },
   "outputs": [
    {
     "name": "stdout",
     "output_type": "stream",
     "text": [
      "Выполняется ли ошибка 2 рода?\n",
      "Не более 20% предупреждений не относятся к реальным авариям (ложноположительные)\n",
      "\n",
      "Получилось: 71%\n",
      "Не выполняется\n"
     ]
    }
   ],
   "source": [
    "print('Выполняется ли ошибка 2 рода?')\n",
    "print('Не более 20% предупреждений не относятся к реальным авариям (ложноположительные)')\n",
    "print('\\nПолучилось: ', end='')\n",
    "print(round(len(alerts_df[alerts_df['Признак: спрогнозировано ли НШС'] == False]) / len(alerts_df) * 100), '%', sep='')\n",
    "print('Не выполняется')"
   ]
  }
 ],
 "metadata": {
  "kernelspec": {
   "display_name": "DataSphere Kernel",
   "language": "python",
   "name": "python3"
  },
  "language_info": {
   "codemirror_mode": {
    "name": "ipython",
    "version": 3
   },
   "file_extension": ".py",
   "mimetype": "text/x-python",
   "name": "python",
   "nbconvert_exporter": "python",
   "pygments_lexer": "ipython3",
   "version": "3.10.12"
  }
 },
 "nbformat": 4,
 "nbformat_minor": 5
}

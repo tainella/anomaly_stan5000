{
 "cells": [
  {
   "cell_type": "code",
   "execution_count": 1,
   "id": "633156ee",
   "metadata": {
    "cellId": "h59js6nd0qojvemntr9tli",
    "execution": {
     "iopub.execute_input": "2024-06-13T18:06:43.618054Z",
     "iopub.status.busy": "2024-06-13T18:06:43.616907Z",
     "iopub.status.idle": "2024-06-13T18:06:44.411125Z",
     "shell.execute_reply": "2024-06-13T18:06:44.410256Z",
     "shell.execute_reply.started": "2024-06-13T18:06:43.618009Z"
    },
    "tags": []
   },
   "outputs": [],
   "source": [
    "import sys\n",
    "sys.path.append('../src')\n",
    "import os\n",
    "\n",
    "import importlib\n",
    "import visualize\n",
    "importlib.reload(visualize)\n",
    "import matplotlib.pyplot as plt\n",
    "import pandas as pd"
   ]
  },
  {
   "cell_type": "code",
   "execution_count": 17,
   "id": "9348bec3",
   "metadata": {
    "cellId": "nrm0ie8ot54rxmy159d4",
    "execution": {
     "iopub.execute_input": "2024-06-13T19:04:38.103809Z",
     "iopub.status.busy": "2024-06-13T19:04:38.102706Z",
     "iopub.status.idle": "2024-06-13T19:04:38.113963Z",
     "shell.execute_reply": "2024-06-13T19:04:38.113111Z",
     "shell.execute_reply.started": "2024-06-13T19:04:38.103764Z"
    },
    "tags": []
   },
   "outputs": [],
   "source": [
    "COLS = [\"Давление в системе\", \"Температура масла в баке\"]"
   ]
  },
  {
   "cell_type": "code",
   "execution_count": 6,
   "id": "1f8d2870",
   "metadata": {
    "cellId": "2w27hoj4az60hi4j5ifk7ye",
    "execution": {
     "iopub.execute_input": "2024-06-13T18:07:43.578031Z",
     "iopub.status.busy": "2024-06-13T18:07:43.576739Z",
     "iopub.status.idle": "2024-06-13T18:07:43.643546Z",
     "shell.execute_reply": "2024-06-13T18:07:43.642676Z",
     "shell.execute_reply.started": "2024-06-13T18:07:43.577985Z"
    },
    "tags": []
   },
   "outputs": [
    {
     "data": {
      "text/html": [
       "<div>\n",
       "<style scoped>\n",
       "    .dataframe tbody tr th:only-of-type {\n",
       "        vertical-align: middle;\n",
       "    }\n",
       "\n",
       "    .dataframe tbody tr th {\n",
       "        vertical-align: top;\n",
       "    }\n",
       "\n",
       "    .dataframe thead th {\n",
       "        text-align: right;\n",
       "    }\n",
       "</style>\n",
       "<table border=\"1\" class=\"dataframe\">\n",
       "  <thead>\n",
       "    <tr style=\"text-align: right;\">\n",
       "      <th></th>\n",
       "      <th>Дата и время окончания срабатывания предупреждения модели</th>\n",
       "      <th>НШС узла в течение 10 дней</th>\n",
       "      <th>Время НШС</th>\n",
       "      <th>Признак: спрогнозировано ли НШС</th>\n",
       "      <th>Показатели, сработавшие в модели как определяющие предупреждение (список)</th>\n",
       "      <th>Срок от предупреждения до начала НШС</th>\n",
       "    </tr>\n",
       "    <tr>\n",
       "      <th>Дата и время начала срабатывания предупреждения модели</th>\n",
       "      <th></th>\n",
       "      <th></th>\n",
       "      <th></th>\n",
       "      <th></th>\n",
       "      <th></th>\n",
       "      <th></th>\n",
       "    </tr>\n",
       "  </thead>\n",
       "  <tbody>\n",
       "    <tr>\n",
       "      <th>2022-07-09 04:26</th>\n",
       "      <td>2022-07-09 06:26</td>\n",
       "      <td>NaN</td>\n",
       "      <td>NaN</td>\n",
       "      <td>False</td>\n",
       "      <td>Температура масла в баке_trend\\nУровень масла ...</td>\n",
       "      <td>NaN</td>\n",
       "    </tr>\n",
       "  </tbody>\n",
       "</table>\n",
       "</div>"
      ],
      "text/plain": [
       "                                                   Дата и время окончания срабатывания предупреждения модели  ... Срок от предупреждения до начала НШС\n",
       "Дата и время начала срабатывания предупреждения...                                                            ...                                     \n",
       "2022-07-09 04:26                                                                     2022-07-09 06:26         ...                                  NaN\n",
       "\n",
       "[1 rows x 6 columns]"
      ]
     },
     "execution_count": 6,
     "metadata": {},
     "output_type": "execute_result"
    }
   ],
   "source": [
    "report_alerts_xlsx = pd.read_excel('/home/jupyter/datasphere/project/diplom/reports/thr=0.05_trend_level_2022_3q_2023_4q_alerts.xlsx')\n",
    "report_alerts_xlsx = report_alerts_xlsx.set_index('Дата и время начала срабатывания предупреждения модели')\n",
    "report_alerts_xlsx.head(1)"
   ]
  },
  {
   "cell_type": "code",
   "execution_count": 15,
   "id": "39c6497d-02d5-4bf7-9a57-3d209fd978e7",
   "metadata": {
    "execution": {
     "iopub.execute_input": "2024-06-13T19:02:10.402407Z",
     "iopub.status.busy": "2024-06-13T19:02:10.401495Z",
     "iopub.status.idle": "2024-06-13T19:02:10.524083Z",
     "shell.execute_reply": "2024-06-13T19:02:10.523204Z",
     "shell.execute_reply.started": "2024-06-13T19:02:10.402367Z"
    },
    "tags": []
   },
   "outputs": [],
   "source": [
    "fact_predict_total = pd.read_pickle('/home/jupyter/datasphere/project/diplom/reports/thr=0.05_trend_level_2022_3q_2023_4q_fact_predict_total.pickle')\n",
    "fact_predict_total.reset_index(inplace=True)\n",
    "\n",
    "test_df = fact_predict_total[['Time', 'Давление в системе_test', 'Температура масла в баке_test']]\n",
    "test_df = test_df.rename(columns=lambda x: x.replace('_test', ''))\n",
    "test_df.reset_index(inplace=True)\n",
    "test_df['Time'] = pd.to_datetime(test_df['Time'])\n",
    "test_df.set_index('Time', inplace = True)\n",
    "\n",
    "predict_df = fact_predict_total[['Time','Давление в системе_pred', 'Температура масла в баке_pred']]\n",
    "predict_df = predict_df.rename(columns=lambda x: x.replace('_pred', ''))\n",
    "predict_df.reset_index(inplace=True)\n",
    "predict_df['Time'] = pd.to_datetime(predict_df['Time'])\n",
    "predict_df.set_index('Time', inplace = True)\n",
    "\n",
    "anomaly_vals_total = pd.read_pickle('/home/jupyter/datasphere/project/diplom/reports/thr=0.05_trend_level_2022_3q_2023_4q_anomaly_vals_total.pickle')\n",
    "anomaly_vals_total.reset_index(inplace=True)\n",
    "anomaly_vals_total['Time'] = pd.to_datetime(anomaly_vals_total['Time'])\n",
    "anomaly_vals_total.set_index('Time', inplace = True)"
   ]
  },
  {
   "cell_type": "code",
   "execution_count": 18,
   "id": "ece2da79",
   "metadata": {
    "cellId": "dp7xiluoxtn33pwzp4mjm9",
    "execution": {
     "iopub.execute_input": "2024-06-13T19:04:42.546936Z",
     "iopub.status.busy": "2024-06-13T19:04:42.546134Z",
     "iopub.status.idle": "2024-06-13T19:06:14.495221Z",
     "shell.execute_reply": "2024-06-13T19:06:14.494322Z",
     "shell.execute_reply.started": "2024-06-13T19:04:42.546894Z"
    },
    "tags": []
   },
   "outputs": [],
   "source": [
    "for index, row in report_alerts_xlsx.iterrows():\n",
    "    timestamp = pd.Timestamp(index) - pd.Timedelta(hours = 30)\n",
    "    alert_end = pd.Timestamp(row['Дата и время окончания срабатывания предупреждения модели']) + pd.Timedelta(hours = 30)\n",
    "    visualize.plot_multiple_cols(COLS, test_df, predict_df, anomaly_vals_total, \n",
    "                       alert_start=timestamp, alert_end=alert_end,\n",
    "                       thresh = 0.05, save_folder = 'trend_level_0.05_buf')"
   ]
  },
  {
   "cell_type": "code",
   "execution_count": null,
   "id": "26436027-28bd-48a0-888c-3a82a2ee62d5",
   "metadata": {},
   "outputs": [],
   "source": []
  }
 ],
 "metadata": {
  "kernelspec": {
   "display_name": "DataSphere Kernel",
   "language": "python",
   "name": "python3"
  },
  "language_info": {
   "codemirror_mode": {
    "name": "ipython",
    "version": 3
   },
   "file_extension": ".py",
   "mimetype": "text/x-python",
   "name": "python",
   "nbconvert_exporter": "python",
   "pygments_lexer": "ipython3",
   "version": "3.10.12"
  },
  "notebookId": "73b5047d-b430-4de3-b08a-34099c3a27a3",
  "notebookPath": "notebooks/plot_features.ipynb"
 },
 "nbformat": 4,
 "nbformat_minor": 5
}
